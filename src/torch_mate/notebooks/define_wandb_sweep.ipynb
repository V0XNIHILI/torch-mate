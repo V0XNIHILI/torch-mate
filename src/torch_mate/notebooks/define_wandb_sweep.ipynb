{
 "cells": [
  {
   "attachments": {},
   "cell_type": "markdown",
   "metadata": {},
   "source": [
    "# `wandb` sweep definition creator"
   ]
  },
  {
   "attachments": {},
   "cell_type": "markdown",
   "metadata": {},
   "source": [
    "## Imports"
   ]
  },
  {
   "cell_type": "code",
   "execution_count": 1,
   "metadata": {},
   "outputs": [],
   "source": [
    "import wandb\n",
    "\n",
    "import yaml\n",
    "\n",
    "from dotmap import DotMap"
   ]
  },
  {
   "attachments": {},
   "cell_type": "markdown",
   "metadata": {},
   "source": [
    "## Helper functions"
   ]
  },
  {
   "cell_type": "code",
   "execution_count": 2,
   "metadata": {},
   "outputs": [],
   "source": [
    "def add_parameters_key(dictionary):\n",
    "    # Add a key parameters to every nested dictionary in a dictionary\n",
    "    for key, value in dictionary.items():\n",
    "        if isinstance(value, dict):\n",
    "            if 'values' not in value.keys() and 'min' not in value.keys() and 'max' not in value.keys():\n",
    "                dictionary[key] = {'parameters': value}\n",
    "                add_parameters_key(value)\n",
    "            \n",
    "def add_value_key(dictionary):\n",
    "    # Add a key value to every nested value in a dictionary\n",
    "    for key, value in dictionary.items():\n",
    "        if isinstance(value, dict):\n",
    "            add_value_key(value)\n",
    "        else:\n",
    "            dictionary[key] = {'value': value}\n",
    "\n",
    "def remove_value_key_if_more_keys_exist(dictionary):\n",
    "    # Remove a key value to every nested value in a dictionary if there are more keys\n",
    "    for key, value in dictionary.items():\n",
    "        if isinstance(value, dict):\n",
    "            if 'value' in value.keys() and len(value.keys()) > 1:\n",
    "                del value['value']\n",
    "            remove_value_key_if_more_keys_exist(value)\n",
    "\n",
    "def merge_dicts(dict1: dict, dict2: dict):\n",
    "    \"\"\"Code taken from: https://stackoverflow.com/a/58742155/11251769.\"\"\"\n",
    "\n",
    "    for key, val in dict1.items():\n",
    "        if type(val) == dict:\n",
    "            if key in dict2 and type(dict2[key] == dict):\n",
    "                merge_dicts(dict1[key], dict2[key])\n",
    "        else:\n",
    "            if key in dict2:\n",
    "                dict1[key] = dict2[key]\n",
    "\n",
    "    for key, val in dict2.items():\n",
    "        if not key in dict1:\n",
    "            dict1[key] = val\n",
    "\n",
    "    return dict1"
   ]
  },
  {
   "attachments": {},
   "cell_type": "markdown",
   "metadata": {},
   "source": [
    "## Base config"
   ]
  },
  {
   "cell_type": "code",
   "execution_count": 3,
   "metadata": {},
   "outputs": [],
   "source": [
    "cfg = DotMap()\n",
    "\n",
    "cfg.criterion.name = 'CrossEntropyLoss'\n",
    "\n",
    "cfg.meta_learning.meta_batch_size = 32\n",
    "cfg.meta_learning.name = 'supervised-cosine'\n",
    "cfg.meta_learning.ways = 5\n",
    "cfg.meta_learning.shots = 1\n",
    "cfg.meta_learning.query_shots = 1\n",
    "\n",
    "cfg.model.name = 'TCN'\n",
    "cfg.model.cfg = DotMap({'input_size': 1, 'channel_sizes': [25]*8, 'kernel_size': 7, 'dropout': 0.1, 'batchnorm': False})\n",
    "\n",
    "cfg.optimizer.name = 'SGD'\n",
    "cfg.optimizer.cfg = DotMap({\"lr\": 0.3, \"momentum\": 0.9, \"weight_decay\": 5e-4, })\n",
    "\n",
    "cfg.seed = 4223747124\n",
    "\n",
    "cfg.task.name = 'Omniglot'\n",
    "cfg.task.cfg = DotMap({'layout': 'pixel', 'random_rotation': [0, 90, 180, 270], 'transform_test': False, 'rotation_extended_dataset': True}) #  \n",
    "cfg.task.train = DotMap({'n_epochs': 500, 'batch_size': 964})\n",
    "cfg.task.val = DotMap({'percentage':0.1})"
   ]
  },
  {
   "attachments": {},
   "cell_type": "markdown",
   "metadata": {},
   "source": [
    "## Variable config"
   ]
  },
  {
   "cell_type": "code",
   "execution_count": 4,
   "metadata": {},
   "outputs": [],
   "source": [
    "v_cfg = DotMap()\n",
    "\n",
    "v_cfg.model.cfg = DotMap({ 'dropout': {'max': 0.6, 'min': 0.0},})\n",
    "\n",
    "v_cfg.optimizer.name = {'values': ['SGD', 'RMSprop']}\n",
    "v_cfg.optimizer.cfg = DotMap({\"lr\": {'max': -1.897, 'min': -9.210, 'distribution': 'log_uniform'}, \"momentum\": {'max': 1.0, 'min': 0.0}, \"weight_decay\": {'max': -2.3025, 'min': -13.815, 'distribution': 'log_uniform'} })\n",
    "\n",
    "v_cfg.task.train = DotMap({'batch_size': {'values': [64, 256, 512, 1024, 2048]}})\n"
   ]
  },
  {
   "attachments": {},
   "cell_type": "markdown",
   "metadata": {},
   "source": [
    "## Sweep config"
   ]
  },
  {
   "cell_type": "code",
   "execution_count": 5,
   "metadata": {},
   "outputs": [],
   "source": [
    "sweep_cfg = DotMap()\n",
    "\n",
    "sweep_cfg.method = 'bayes'\n",
    "sweep_cfg.name = 'omniglot_tcn'\n",
    "sweep_cfg.program = 'runner.py'\n",
    "sweep_cfg.metric = {'name': \"meta_val/accuracy\", 'goal': 'maximize'}\n",
    "sweep_cfg.early_terminate = {'type': 'hyperband', 'min_iter': 100, 's': 2}"
   ]
  },
  {
   "attachments": {},
   "cell_type": "markdown",
   "metadata": {},
   "source": [
    "## Merging and fixing dictionaries"
   ]
  },
  {
   "cell_type": "code",
   "execution_count": 6,
   "metadata": {},
   "outputs": [],
   "source": [
    "sweep_parameters_cfg = cfg.toDict()\n",
    "\n",
    "add_parameters_key(sweep_parameters_cfg)\n",
    "add_value_key(sweep_parameters_cfg)"
   ]
  },
  {
   "cell_type": "code",
   "execution_count": 7,
   "metadata": {},
   "outputs": [],
   "source": [
    "sweep_variable_parameters_cfg = v_cfg.toDict()\n",
    "\n",
    "add_parameters_key(sweep_variable_parameters_cfg)"
   ]
  },
  {
   "cell_type": "code",
   "execution_count": 8,
   "metadata": {},
   "outputs": [],
   "source": [
    "full_sweep_parameters_cfg = merge_dicts(sweep_parameters_cfg, sweep_variable_parameters_cfg)\n",
    "remove_value_key_if_more_keys_exist(full_sweep_parameters_cfg)\n",
    "\n",
    "sweep_cfg.parameters = full_sweep_parameters_cfg"
   ]
  },
  {
   "attachments": {},
   "cell_type": "markdown",
   "metadata": {},
   "source": [
    "## Show final config"
   ]
  },
  {
   "cell_type": "code",
   "execution_count": 9,
   "metadata": {},
   "outputs": [
    {
     "name": "stdout",
     "output_type": "stream",
     "text": [
      "early_terminate:\n",
      "  min_iter: 100\n",
      "  s: 2\n",
      "  type: hyperband\n",
      "method: bayes\n",
      "metric:\n",
      "  goal: maximize\n",
      "  name: meta_val/accuracy\n",
      "name: omniglot_tcn\n",
      "parameters:\n",
      "  criterion:\n",
      "    parameters:\n",
      "      name:\n",
      "        value: CrossEntropyLoss\n",
      "  meta_learning:\n",
      "    parameters:\n",
      "      meta_batch_size:\n",
      "        value: 32\n",
      "      name:\n",
      "        value: supervised-cosine\n",
      "      query_shots:\n",
      "        value: 1\n",
      "      shots:\n",
      "        value: 1\n",
      "      ways:\n",
      "        value: 5\n",
      "  model:\n",
      "    parameters:\n",
      "      cfg:\n",
      "        parameters:\n",
      "          batchnorm:\n",
      "            value: false\n",
      "          channel_sizes:\n",
      "            value:\n",
      "            - 25\n",
      "            - 25\n",
      "            - 25\n",
      "            - 25\n",
      "            - 25\n",
      "            - 25\n",
      "            - 25\n",
      "            - 25\n",
      "          dropout:\n",
      "            max: 0.6\n",
      "            min: 0.0\n",
      "          input_size:\n",
      "            value: 1\n",
      "          kernel_size:\n",
      "            value: 7\n",
      "      name:\n",
      "        value: TCN\n",
      "  optimizer:\n",
      "    parameters:\n",
      "      cfg:\n",
      "        parameters:\n",
      "          lr:\n",
      "            distribution: log_uniform\n",
      "            max: -1.897\n",
      "            min: -9.21\n",
      "          momentum:\n",
      "            max: 1.0\n",
      "            min: 0.0\n",
      "          weight_decay:\n",
      "            distribution: log_uniform\n",
      "            max: -2.3025\n",
      "            min: -13.815\n",
      "      name:\n",
      "        values:\n",
      "        - SGD\n",
      "        - RMSprop\n",
      "  seed:\n",
      "    value: 4223747124\n",
      "  task:\n",
      "    parameters:\n",
      "      cfg:\n",
      "        parameters:\n",
      "          layout:\n",
      "            value: pixel\n",
      "          random_rotation:\n",
      "            value:\n",
      "            - 0\n",
      "            - 90\n",
      "            - 180\n",
      "            - 270\n",
      "          rotation_extended_dataset:\n",
      "            value: true\n",
      "          transform_test:\n",
      "            value: false\n",
      "      name:\n",
      "        value: Omniglot\n",
      "      train:\n",
      "        parameters:\n",
      "          batch_size:\n",
      "            values:\n",
      "            - 64\n",
      "            - 256\n",
      "            - 512\n",
      "            - 1024\n",
      "            - 2048\n",
      "          n_epochs:\n",
      "            value: 500\n",
      "      val:\n",
      "        parameters:\n",
      "          percentage:\n",
      "            value: 0.1\n",
      "program: runner.py\n",
      "\n"
     ]
    }
   ],
   "source": [
    "print(yaml.dump(sweep_cfg.toDict(), default_flow_style=False))"
   ]
  },
  {
   "attachments": {},
   "cell_type": "markdown",
   "metadata": {},
   "source": [
    "## Submit config"
   ]
  },
  {
   "cell_type": "code",
   "execution_count": 10,
   "metadata": {},
   "outputs": [
    {
     "name": "stderr",
     "output_type": "stream",
     "text": [
      "Failed to detect the name of this notebook, you can set it manually with the WANDB_NOTEBOOK_NAME environment variable to enable code saving.\n"
     ]
    },
    {
     "name": "stdout",
     "output_type": "stream",
     "text": [
      "Create sweep with ID: h53zqd0i\n",
      "Sweep URL: https://wandb.ai/douwe/meta-learning-arena/sweeps/h53zqd0i\n"
     ]
    }
   ],
   "source": [
    "sweep_id = wandb.sweep(project=\"meta-learning-arena\", entity=\"douwe\", sweep=sweep_cfg.toDict())"
   ]
  }
 ],
 "metadata": {
  "kernelspec": {
   "display_name": "Python 3",
   "language": "python",
   "name": "python3"
  },
  "language_info": {
   "codemirror_mode": {
    "name": "ipython",
    "version": 3
   },
   "file_extension": ".py",
   "mimetype": "text/x-python",
   "name": "python",
   "nbconvert_exporter": "python",
   "pygments_lexer": "ipython3",
   "version": "3.9.16"
  },
  "orig_nbformat": 4,
  "vscode": {
   "interpreter": {
    "hash": "397704579725e15f5c7cb49fe5f0341eb7531c82d19f2c29d197e8b64ab5776b"
   }
  }
 },
 "nbformat": 4,
 "nbformat_minor": 2
}
